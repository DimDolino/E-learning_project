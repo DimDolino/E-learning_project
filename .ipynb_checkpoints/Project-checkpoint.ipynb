{
 "cells": [
  {
   "cell_type": "code",
   "execution_count": 50,
   "id": "930238b2",
   "metadata": {},
   "outputs": [],
   "source": [
    "import requests\n",
    "from urllib.parse import urlencode\n",
    "import pandas as pd"
   ]
  },
  {
   "cell_type": "code",
   "execution_count": 132,
   "id": "dc296862",
   "metadata": {},
   "outputs": [],
   "source": [
    "base_url = 'https://cloud-api.yandex.net/v1/disk/public/resources/download?'\n",
    "name_dict = {'assessments': 'https://disk.yandex.ru/d/PBW7aUHGuodFDA',\n",
    "             'courses': 'https://disk.yandex.ru/d/m0Z6QYNT46f9tQ',\n",
    "             'student_assessment' : 'https://disk.yandex.ru/d/lsmdbYB0iM7p3w',\n",
    "             'student_registration': 'https://disk.yandex.ru/d/Yse4Y6RJqg_WaA'}\n",
    "\n",
    "public_keys = [assessments, courses, student_assessment, student_registration]\n",
    "\n",
    "# Получаем загрузочную ссылку\n",
    "for key, value in name_dict.items():\n",
    "    final_url = base_url + urlencode(dict(public_key=value))\n",
    "    response = requests.get(final_url)\n",
    "    download_url = response.json()['href']\n",
    "    # Загружаем файл и сохраняем его\n",
    "    download_response = requests.get(download_url)\n",
    "    with open(f'{key}.csv', 'wb') as f:   # Здесь укажите нужный путь к файлу\n",
    "        f.write(download_response.content)\n",
    "\n",
    "assessments = pd.read_csv('assessments.csv')\n",
    "courses = pd.read_csv('courses.csv')\n",
    "student_assessment = pd.read_csv('student_assessment.csv')\n",
    "student_registration = pd.read_csv('student_registration.csv')\n",
    "    "
   ]
  },
  {
   "cell_type": "markdown",
   "id": "323c9457",
   "metadata": {},
   "source": [
    "1) assessments.csv — этот файл содержит информацию об оценках в тесте. Обычно каждый предмет в семестре включает ряд тестов с оценками, за которыми следует заключительный экзаменационный тест (экзамен).\n",
    "\n",
    "code_module — идентификационный код предмета.\n",
    "\n",
    "code_presentation — семестр (Идентификационный код).\n",
    "\n",
    "id_assessment — тест (Идентификационный номер ассессмента).\n",
    "\n",
    "assessment_type — тип теста. Существуют три типа оценивания: оценка преподавателя (TMA), компьютерная оценка (СМА), экзамен по курсу (Exam).\n",
    "\n",
    "date — информация об окончательной дате сдачи теста. Рассчитывается как количество дней с момента начала семестра. Дата начала семестра имеет номер 0 (ноль).\n",
    "\n",
    "weight — вес теста в % в оценке за курс. Обычно экзамены рассматриваются отдельно и имеют вес 100%; сумма всех остальных оценок составляет 100%.\n",
    "\n",
    "2) courses.csv — файл содержит список предметов по семестрам.\n",
    "\n",
    "code_module — предмет (идентификационный код).\n",
    "\n",
    "code_presentation — семестр (идентификационный код).\n",
    "\n",
    "module_presentation_length — продолжительность семестра в днях.\n",
    "\n",
    "3) studentAssessment.csv — этот файл содержит результаты тестов студентов. Если учащийся не отправляет работу на оценку, результат не записывается в таблицу.\n",
    "\n",
    "id_assessment — тест (идентификационный номер).\n",
    "\n",
    "id_student — идентификационный номер студента.\n",
    "\n",
    "date_submitted — дата сдачи теста студентом, измеряемая как количество дней с начала семестра.\n",
    "\n",
    "is_banked — факт перезачета теста с прошлого семестра (иногда курсы перезачитывают студентам, вернувшимся из академического отпуска).\n",
    "\n",
    "score — оценка учащегося в этом тесте. Диапазон составляет от 0 до 100. Оценка ниже 40 неудачная/неуспешная сдача теста.\n",
    "\n",
    "4) studentRegistration.csv — этот файл содержит информацию о времени, когда студент зарегистрировался для прохождения курса в семестре.\n",
    "\n",
    "code_module — предмет (идентификационный код).\n",
    "\n",
    "code_presentation — семестр (идентификационный код)\n",
    "\n",
    "id_student — идентификационный номер студента.\n",
    "\n",
    "date_registration — дата регистрации студента. Это количество дней, измеренное от начала семестра (например, отрицательное значение -30 означает, что студент зарегистрировался на прохождение курса за 30 дней до его начала).\n",
    "\n",
    "date_unregistration — дата отмены регистрации студента с предмета. У студентов, окончивших курс, это поле остается пустым."
   ]
  },
  {
   "cell_type": "markdown",
   "id": "b95be8c4",
   "metadata": {},
   "source": [
    "### 1. Сколько студентов успешно сдали только один курс? (Успешная сдача — это зачёт по курсу на экзамене) (7 баллов)."
   ]
  },
  {
   "cell_type": "code",
   "execution_count": 133,
   "id": "b4e86ce9",
   "metadata": {},
   "outputs": [],
   "source": [
    "# Связь фреймов данных о студентах и их результатах по тестам\n",
    "assessment_df = student_assessment.merge(assessments, how='left', on='id_assessment')"
   ]
  },
  {
   "cell_type": "code",
   "execution_count": 134,
   "id": "deda0add",
   "metadata": {},
   "outputs": [
    {
     "data": {
      "text/plain": [
       "3802"
      ]
     },
     "execution_count": 134,
     "metadata": {},
     "output_type": "execute_result"
    }
   ],
   "source": [
    "# Число студентов, которые успешно сдали только один курс\n",
    "assessment_df.query('score >= 40 and assessment_type == \"Exam\"') \\\n",
    "             .groupby('id_student',as_index=False) \\\n",
    "             .agg({'id_assessment': 'count'}) \\\n",
    "             .rename(columns={'id_assessment': 'num_of_passed_exams'}) \\\n",
    "             .query('num_of_passed_exams == 1').shape[0]"
   ]
  },
  {
   "cell_type": "markdown",
   "id": "82eb0a9a",
   "metadata": {},
   "source": [
    "### 2. Выяви самый сложный и самый простой экзамен: найди курсы и экзамены в рамках курса, которые обладают самой низкой и самой высокой завершаемостью*. (5 баллов) \n",
    "завершаемость = кол-во успешных экзаменов / кол-во всех попыток сдать экзамен"
   ]
  },
  {
   "cell_type": "code",
   "execution_count": 135,
   "id": "2a6d56bd",
   "metadata": {},
   "outputs": [
    {
     "data": {
      "text/html": [
       "<div>\n",
       "<style scoped>\n",
       "    .dataframe tbody tr th:only-of-type {\n",
       "        vertical-align: middle;\n",
       "    }\n",
       "\n",
       "    .dataframe tbody tr th {\n",
       "        vertical-align: top;\n",
       "    }\n",
       "\n",
       "    .dataframe thead th {\n",
       "        text-align: right;\n",
       "    }\n",
       "</style>\n",
       "<table border=\"1\" class=\"dataframe\">\n",
       "  <thead>\n",
       "    <tr style=\"text-align: right;\">\n",
       "      <th></th>\n",
       "      <th>code_module</th>\n",
       "      <th>id_student</th>\n",
       "    </tr>\n",
       "  </thead>\n",
       "  <tbody>\n",
       "    <tr>\n",
       "      <th>0</th>\n",
       "      <td>CCC</td>\n",
       "      <td>1915</td>\n",
       "    </tr>\n",
       "    <tr>\n",
       "      <th>1</th>\n",
       "      <td>DDD</td>\n",
       "      <td>3044</td>\n",
       "    </tr>\n",
       "  </tbody>\n",
       "</table>\n",
       "</div>"
      ],
      "text/plain": [
       "  code_module  id_student\n",
       "0         CCC        1915\n",
       "1         DDD        3044"
      ]
     },
     "execution_count": 135,
     "metadata": {},
     "output_type": "execute_result"
    }
   ],
   "source": [
    "assessment_df.query('assessment_type == \"Exam\"').groupby('code_module',as_index = False).agg({'id_student': 'count'})"
   ]
  },
  {
   "cell_type": "code",
   "execution_count": 136,
   "id": "d8d8101a",
   "metadata": {},
   "outputs": [],
   "source": [
    "# Студенты, которые сдавали экзамены с группировкой по предмету и семестру\n",
    "all_students = assessment_df.query('assessment_type == \"Exam\"') \\\n",
    "                            .groupby(['code_module', 'code_presentation'],as_index=False) \\\n",
    "                            .agg({\"id_student\": 'count'}) \\\n",
    "                            .rename(columns={'id_student': 'number_of_tried'})\n",
    "\n",
    "# Студенты, которые успешно сдали экзамены с группировкой по предмету и семестру\n",
    "passed_students = assessment_df.query('assessment_type == \"Exam\" and score >= 40') \\\n",
    "                               .groupby(['code_module', 'code_presentation'],as_index=False) \\\n",
    "                               .agg({\"id_student\": 'count'}) \\\n",
    "                               .rename(columns={'id_student': 'number_of_passed'})"
   ]
  },
  {
   "cell_type": "code",
   "execution_count": 137,
   "id": "3d0f27e5",
   "metadata": {},
   "outputs": [
    {
     "data": {
      "text/html": [
       "<div>\n",
       "<style scoped>\n",
       "    .dataframe tbody tr th:only-of-type {\n",
       "        vertical-align: middle;\n",
       "    }\n",
       "\n",
       "    .dataframe tbody tr th {\n",
       "        vertical-align: top;\n",
       "    }\n",
       "\n",
       "    .dataframe thead th {\n",
       "        text-align: right;\n",
       "    }\n",
       "</style>\n",
       "<table border=\"1\" class=\"dataframe\">\n",
       "  <thead>\n",
       "    <tr style=\"text-align: right;\">\n",
       "      <th></th>\n",
       "      <th>code_module</th>\n",
       "      <th>code_presentation</th>\n",
       "      <th>number_of_passed</th>\n",
       "      <th>number_of_tried</th>\n",
       "      <th>passing_rate</th>\n",
       "    </tr>\n",
       "  </thead>\n",
       "  <tbody>\n",
       "    <tr>\n",
       "      <th>0</th>\n",
       "      <td>CCC</td>\n",
       "      <td>2014B</td>\n",
       "      <td>664</td>\n",
       "      <td>747</td>\n",
       "      <td>0.888889</td>\n",
       "    </tr>\n",
       "    <tr>\n",
       "      <th>1</th>\n",
       "      <td>CCC</td>\n",
       "      <td>2014J</td>\n",
       "      <td>1019</td>\n",
       "      <td>1168</td>\n",
       "      <td>0.872432</td>\n",
       "    </tr>\n",
       "    <tr>\n",
       "      <th>2</th>\n",
       "      <td>DDD</td>\n",
       "      <td>2013B</td>\n",
       "      <td>504</td>\n",
       "      <td>602</td>\n",
       "      <td>0.837209</td>\n",
       "    </tr>\n",
       "    <tr>\n",
       "      <th>3</th>\n",
       "      <td>DDD</td>\n",
       "      <td>2013J</td>\n",
       "      <td>878</td>\n",
       "      <td>968</td>\n",
       "      <td>0.907025</td>\n",
       "    </tr>\n",
       "    <tr>\n",
       "      <th>4</th>\n",
       "      <td>DDD</td>\n",
       "      <td>2014B</td>\n",
       "      <td>485</td>\n",
       "      <td>524</td>\n",
       "      <td>0.925573</td>\n",
       "    </tr>\n",
       "    <tr>\n",
       "      <th>5</th>\n",
       "      <td>DDD</td>\n",
       "      <td>2014J</td>\n",
       "      <td>842</td>\n",
       "      <td>950</td>\n",
       "      <td>0.886316</td>\n",
       "    </tr>\n",
       "  </tbody>\n",
       "</table>\n",
       "</div>"
      ],
      "text/plain": [
       "  code_module code_presentation  number_of_passed  number_of_tried  \\\n",
       "0         CCC             2014B               664              747   \n",
       "1         CCC             2014J              1019             1168   \n",
       "2         DDD             2013B               504              602   \n",
       "3         DDD             2013J               878              968   \n",
       "4         DDD             2014B               485              524   \n",
       "5         DDD             2014J               842              950   \n",
       "\n",
       "   passing_rate  \n",
       "0      0.888889  \n",
       "1      0.872432  \n",
       "2      0.837209  \n",
       "3      0.907025  \n",
       "4      0.925573  \n",
       "5      0.886316  "
      ]
     },
     "execution_count": 137,
     "metadata": {},
     "output_type": "execute_result"
    }
   ],
   "source": [
    "# объединяем два фрейма студентов по предмету и создаем колонку завершаемости предмета\n",
    "exams_df = passed_students.merge(all_students, how = 'inner')\n",
    "\n",
    "exams_df['passing_rate'] =  exams_df.number_of_passed / exams_df.number_of_tried\n",
    "\n",
    "exams_df"
   ]
  },
  {
   "cell_type": "code",
   "execution_count": 139,
   "id": "0901a4bd",
   "metadata": {},
   "outputs": [],
   "source": [
    "# определяем минимальное и максимальное значения завершаемости курсов\n",
    "min_ending = exams_df.passing_rate.min()\n",
    "\n",
    "max_ending = exams_df.passing_rate.max()"
   ]
  },
  {
   "cell_type": "code",
   "execution_count": 141,
   "id": "d2cdbd30",
   "metadata": {},
   "outputs": [
    {
     "data": {
      "text/html": [
       "<div>\n",
       "<style scoped>\n",
       "    .dataframe tbody tr th:only-of-type {\n",
       "        vertical-align: middle;\n",
       "    }\n",
       "\n",
       "    .dataframe tbody tr th {\n",
       "        vertical-align: top;\n",
       "    }\n",
       "\n",
       "    .dataframe thead th {\n",
       "        text-align: right;\n",
       "    }\n",
       "</style>\n",
       "<table border=\"1\" class=\"dataframe\">\n",
       "  <thead>\n",
       "    <tr style=\"text-align: right;\">\n",
       "      <th></th>\n",
       "      <th>code_module</th>\n",
       "      <th>code_presentation</th>\n",
       "    </tr>\n",
       "  </thead>\n",
       "  <tbody>\n",
       "    <tr>\n",
       "      <th>2</th>\n",
       "      <td>DDD</td>\n",
       "      <td>2013B</td>\n",
       "    </tr>\n",
       "  </tbody>\n",
       "</table>\n",
       "</div>"
      ],
      "text/plain": [
       "  code_module code_presentation\n",
       "2         DDD             2013B"
      ]
     },
     "execution_count": 141,
     "metadata": {},
     "output_type": "execute_result"
    }
   ],
   "source": [
    "# Экзамен и код экзамена с самой низкой завершаемостью\n",
    "exams_df.query('passing_rate == @min_ending')[['code_module', 'code_presentation']]"
   ]
  },
  {
   "cell_type": "code",
   "execution_count": 142,
   "id": "50578d29",
   "metadata": {},
   "outputs": [
    {
     "data": {
      "text/html": [
       "<div>\n",
       "<style scoped>\n",
       "    .dataframe tbody tr th:only-of-type {\n",
       "        vertical-align: middle;\n",
       "    }\n",
       "\n",
       "    .dataframe tbody tr th {\n",
       "        vertical-align: top;\n",
       "    }\n",
       "\n",
       "    .dataframe thead th {\n",
       "        text-align: right;\n",
       "    }\n",
       "</style>\n",
       "<table border=\"1\" class=\"dataframe\">\n",
       "  <thead>\n",
       "    <tr style=\"text-align: right;\">\n",
       "      <th></th>\n",
       "      <th>code_module</th>\n",
       "      <th>code_presentation</th>\n",
       "    </tr>\n",
       "  </thead>\n",
       "  <tbody>\n",
       "    <tr>\n",
       "      <th>4</th>\n",
       "      <td>DDD</td>\n",
       "      <td>2014B</td>\n",
       "    </tr>\n",
       "  </tbody>\n",
       "</table>\n",
       "</div>"
      ],
      "text/plain": [
       "  code_module code_presentation\n",
       "4         DDD             2014B"
      ]
     },
     "execution_count": 142,
     "metadata": {},
     "output_type": "execute_result"
    }
   ],
   "source": [
    "# Экзамен и код экзамена с самой высокой завершаемостью\n",
    "exams_df.query('passing_rate == @max_ending')[['code_module', 'code_presentation']]"
   ]
  },
  {
   "cell_type": "markdown",
   "id": "72658adf",
   "metadata": {},
   "source": [
    "### 3. По каждому предмету определи средний срок сдачи экзаменов (под сдачей понимаем последнее успешное прохождение экзамена студентом). (5 баллов) "
   ]
  },
  {
   "cell_type": "code",
   "execution_count": 143,
   "id": "9ac4ca64",
   "metadata": {},
   "outputs": [
    {
     "data": {
      "text/html": [
       "<div>\n",
       "<style scoped>\n",
       "    .dataframe tbody tr th:only-of-type {\n",
       "        vertical-align: middle;\n",
       "    }\n",
       "\n",
       "    .dataframe tbody tr th {\n",
       "        vertical-align: top;\n",
       "    }\n",
       "\n",
       "    .dataframe thead th {\n",
       "        text-align: right;\n",
       "    }\n",
       "</style>\n",
       "<table border=\"1\" class=\"dataframe\">\n",
       "  <thead>\n",
       "    <tr style=\"text-align: right;\">\n",
       "      <th></th>\n",
       "      <th>code_module</th>\n",
       "      <th>code_presentation</th>\n",
       "      <th>average_pass_date</th>\n",
       "    </tr>\n",
       "  </thead>\n",
       "  <tbody>\n",
       "    <tr>\n",
       "      <th>0</th>\n",
       "      <td>CCC</td>\n",
       "      <td>2014B</td>\n",
       "      <td>231.581325</td>\n",
       "    </tr>\n",
       "    <tr>\n",
       "      <th>1</th>\n",
       "      <td>CCC</td>\n",
       "      <td>2014J</td>\n",
       "      <td>244.404318</td>\n",
       "    </tr>\n",
       "    <tr>\n",
       "      <th>2</th>\n",
       "      <td>DDD</td>\n",
       "      <td>2013B</td>\n",
       "      <td>230.164683</td>\n",
       "    </tr>\n",
       "    <tr>\n",
       "      <th>3</th>\n",
       "      <td>DDD</td>\n",
       "      <td>2013J</td>\n",
       "      <td>239.509112</td>\n",
       "    </tr>\n",
       "    <tr>\n",
       "      <th>4</th>\n",
       "      <td>DDD</td>\n",
       "      <td>2014B</td>\n",
       "      <td>234.936082</td>\n",
       "    </tr>\n",
       "    <tr>\n",
       "      <th>5</th>\n",
       "      <td>DDD</td>\n",
       "      <td>2014J</td>\n",
       "      <td>242.804038</td>\n",
       "    </tr>\n",
       "  </tbody>\n",
       "</table>\n",
       "</div>"
      ],
      "text/plain": [
       "  code_module code_presentation  average_pass_date\n",
       "0         CCC             2014B         231.581325\n",
       "1         CCC             2014J         244.404318\n",
       "2         DDD             2013B         230.164683\n",
       "3         DDD             2013J         239.509112\n",
       "4         DDD             2014B         234.936082\n",
       "5         DDD             2014J         242.804038"
      ]
     },
     "execution_count": 143,
     "metadata": {},
     "output_type": "execute_result"
    }
   ],
   "source": [
    "# Определяем средний срок сдачи экзамена\n",
    "mean_pass_date_df = assessment_df.query('assessment_type == \"Exam\" and score >= 40') \\\n",
    "             .groupby(['code_module', 'code_presentation'],as_index=False) \\\n",
    "             .agg({\"date_submitted\": 'mean'}) \\\n",
    "             .rename(columns={'date_submitted': 'average_pass_date'}) \\\n",
    "\n",
    "mean_pass_date_df"
   ]
  },
  {
   "cell_type": "markdown",
   "id": "11f86f89",
   "metadata": {},
   "source": [
    "### 4. Выяви самые популярные курсы (ТОП-3) по количеству регистраций на них. А также курсы с самым большим оттоком (ТОП-3). (8 баллов)"
   ]
  },
  {
   "cell_type": "code",
   "execution_count": 144,
   "id": "3263c8c1",
   "metadata": {},
   "outputs": [
    {
     "data": {
      "text/html": [
       "<div>\n",
       "<style scoped>\n",
       "    .dataframe tbody tr th:only-of-type {\n",
       "        vertical-align: middle;\n",
       "    }\n",
       "\n",
       "    .dataframe tbody tr th {\n",
       "        vertical-align: top;\n",
       "    }\n",
       "\n",
       "    .dataframe thead th {\n",
       "        text-align: right;\n",
       "    }\n",
       "</style>\n",
       "<table border=\"1\" class=\"dataframe\">\n",
       "  <thead>\n",
       "    <tr style=\"text-align: right;\">\n",
       "      <th></th>\n",
       "      <th>code_module</th>\n",
       "      <th>number_of_reg</th>\n",
       "    </tr>\n",
       "  </thead>\n",
       "  <tbody>\n",
       "    <tr>\n",
       "      <th>1</th>\n",
       "      <td>BBB</td>\n",
       "      <td>7909</td>\n",
       "    </tr>\n",
       "    <tr>\n",
       "      <th>5</th>\n",
       "      <td>FFF</td>\n",
       "      <td>7762</td>\n",
       "    </tr>\n",
       "    <tr>\n",
       "      <th>3</th>\n",
       "      <td>DDD</td>\n",
       "      <td>6272</td>\n",
       "    </tr>\n",
       "  </tbody>\n",
       "</table>\n",
       "</div>"
      ],
      "text/plain": [
       "  code_module  number_of_reg\n",
       "1         BBB           7909\n",
       "5         FFF           7762\n",
       "3         DDD           6272"
      ]
     },
     "execution_count": 144,
     "metadata": {},
     "output_type": "execute_result"
    }
   ],
   "source": [
    "# ТОП-3 курса по числу регистраций\n",
    "student_registration.groupby('code_module', as_index=False) \\\n",
    "                    .agg({'id_student': 'count'}) \\\n",
    "                    .rename(columns={'id_student': 'number_of_reg'}) \\\n",
    "                    .sort_values('number_of_reg', ascending=False) \\\n",
    "                    .head(3)"
   ]
  },
  {
   "cell_type": "code",
   "execution_count": 145,
   "id": "e87e5357",
   "metadata": {},
   "outputs": [
    {
     "data": {
      "text/html": [
       "<div>\n",
       "<style scoped>\n",
       "    .dataframe tbody tr th:only-of-type {\n",
       "        vertical-align: middle;\n",
       "    }\n",
       "\n",
       "    .dataframe tbody tr th {\n",
       "        vertical-align: top;\n",
       "    }\n",
       "\n",
       "    .dataframe thead th {\n",
       "        text-align: right;\n",
       "    }\n",
       "</style>\n",
       "<table border=\"1\" class=\"dataframe\">\n",
       "  <thead>\n",
       "    <tr style=\"text-align: right;\">\n",
       "      <th></th>\n",
       "      <th>code_module</th>\n",
       "      <th>number_of_unreg</th>\n",
       "    </tr>\n",
       "  </thead>\n",
       "  <tbody>\n",
       "    <tr>\n",
       "      <th>5</th>\n",
       "      <td>FFF</td>\n",
       "      <td>2380</td>\n",
       "    </tr>\n",
       "    <tr>\n",
       "      <th>1</th>\n",
       "      <td>BBB</td>\n",
       "      <td>2377</td>\n",
       "    </tr>\n",
       "    <tr>\n",
       "      <th>3</th>\n",
       "      <td>DDD</td>\n",
       "      <td>2235</td>\n",
       "    </tr>\n",
       "  </tbody>\n",
       "</table>\n",
       "</div>"
      ],
      "text/plain": [
       "  code_module  number_of_unreg\n",
       "5         FFF             2380\n",
       "1         BBB             2377\n",
       "3         DDD             2235"
      ]
     },
     "execution_count": 145,
     "metadata": {},
     "output_type": "execute_result"
    }
   ],
   "source": [
    "# ТОп-3 курса по оттоку студентов\n",
    "student_registration.groupby('code_module', as_index=False) \\\n",
    "                    .agg({'date_unregistration': 'count'}) \\\n",
    "                    .rename(columns={'date_unregistration': 'number_of_unreg'}) \\\n",
    "                    .sort_values('number_of_unreg', ascending=False) \\\n",
    "                    .head(3)"
   ]
  },
  {
   "cell_type": "markdown",
   "id": "5854b345",
   "metadata": {},
   "source": [
    "### Напиши функцию на python, позволяющую строить когортный (семестровый) анализ. В период с начала 2013 по конец 2014 выяви семестр с самой низкой завершаемостью курсов и самыми долгими средними сроками сдачи курсов. (10 баллов) "
   ]
  },
  {
   "cell_type": "code",
   "execution_count": 150,
   "id": "19174855",
   "metadata": {},
   "outputs": [],
   "source": [
    "def Cohort():\n",
    "#     импортируем датафреймы\n",
    "    assessments = pd.read_csv('assessments.csv')\n",
    "    courses = pd.read_csv('courses.csv')\n",
    "# создаем датафреймы для анализа\n",
    "    assessment_df = student_assessment.merge(assessments, how='left', on='id_assessment')\n",
    "# число студентов, сдававших экзамены\n",
    "    all_students = assessment_df.query('assessment_type == \"Exam\"') \\\n",
    "                            .groupby( 'code_presentation',as_index=False) \\\n",
    "                            .agg({\"id_student\": 'count'}) \\\n",
    "                            .rename(columns={'id_student': 'number_of_tried'})\n",
    "# студенты, успешно сдавшие экзамены\n",
    "    passed_students = assessment_df.query('assessment_type == \"Exam\" and score >= 40') \\\n",
    "                               .groupby('code_presentation',as_index=False) \\\n",
    "                               .agg({\"id_student\": 'count'}) \\\n",
    "                               .rename(columns={'id_student': 'number_of_passed'})\n",
    "#     датафрейм для расчета завершаемости\n",
    "    exams_df = passed_students.merge(all_students, how = 'inner')\n",
    "    exams_df['passing_rate'] =  exams_df.number_of_passed / exams_df.number_of_tried\n",
    "#     датафрейм среднего времени сдачи экзаменов за семестр\n",
    "    average_pass_date = assessment_df.query('assessment_type == \"Exam\" and score >= 40') \\\n",
    "             .groupby('code_presentation', as_index=False) \\\n",
    "             .agg({\"date_submitted\": 'mean'}) \\\n",
    "             .rename(columns={'date_submitted': 'average_pass_date'})\n",
    "#     Объединяем датафрейм с завершаемостью курсов на семестре и средним временем завершения экзамена\n",
    "    df = exams_df.merge(average_pass_date, how='inner')\n",
    "    df = df.set_index('code_presentation')\n",
    "    return df"
   ]
  },
  {
   "cell_type": "code",
   "execution_count": 147,
   "id": "d7bd8f8d",
   "metadata": {},
   "outputs": [],
   "source": [
    "df = Cohort()"
   ]
  },
  {
   "cell_type": "code",
   "execution_count": 148,
   "id": "5ffd1bee",
   "metadata": {},
   "outputs": [
    {
     "data": {
      "text/plain": [
       "'2013B'"
      ]
     },
     "execution_count": 148,
     "metadata": {},
     "output_type": "execute_result"
    }
   ],
   "source": [
    "# семестр с самой низкой завершаемостью курсов\n",
    "df['passing_rate'].idxmin()"
   ]
  },
  {
   "cell_type": "code",
   "execution_count": 149,
   "id": "b36a512b",
   "metadata": {},
   "outputs": [
    {
     "data": {
      "text/plain": [
       "'2014J'"
      ]
     },
     "execution_count": 149,
     "metadata": {},
     "output_type": "execute_result"
    }
   ],
   "source": [
    "# семестр c самыми долгими средними сроками сдачи курсов\n",
    "df['average_pass_date'].idxmax()"
   ]
  },
  {
   "cell_type": "markdown",
   "id": "8e1f658e",
   "metadata": {},
   "source": [
    "#### 6. Часто для качественного анализа аудитории используют подходы, основанные на сегментации. Используя python, построй адаптированные RFM-кластеры студентов, чтобы качественно оценить свою аудиторию. В адаптированной кластеризации можешь выбрать следующие метрики: R - среднее время сдачи одного экзамена, F - завершаемость курсов, M - среднее количество баллов, получаемое за экзамен. Подробно опиши, как ты создавал кластеры. Для каждого RFM-сегмента построй границы метрик recency, frequency и monetary для интерпретации этих кластеров. Пример такого описания: RFM-сегмент 132 (recency=1, frequency=3, monetary=2) имеет границы метрик recency от 130 до 500 дней, frequency от 0.1 до 0.5, monetary от 55 до 72 баллов. Описание подхода можно найти тут. (35 баллов)"
   ]
  },
  {
   "cell_type": "code",
   "execution_count": null,
   "id": "b99967f5",
   "metadata": {},
   "outputs": [],
   "source": []
  }
 ],
 "metadata": {
  "kernelspec": {
   "display_name": "Python 3 (ipykernel)",
   "language": "python",
   "name": "python3"
  },
  "language_info": {
   "codemirror_mode": {
    "name": "ipython",
    "version": 3
   },
   "file_extension": ".py",
   "mimetype": "text/x-python",
   "name": "python",
   "nbconvert_exporter": "python",
   "pygments_lexer": "ipython3",
   "version": "3.9.7"
  }
 },
 "nbformat": 4,
 "nbformat_minor": 5
}
