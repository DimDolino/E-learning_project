{
 "cells": [
  {
   "cell_type": "code",
   "execution_count": 1,
   "id": "930238b2",
   "metadata": {},
   "outputs": [],
   "source": [
    "import requests\n",
    "from urllib.parse import urlencode\n",
    "import pandas as pd"
   ]
  },
  {
   "cell_type": "code",
   "execution_count": 10,
   "id": "dc296862",
   "metadata": {},
   "outputs": [],
   "source": [
    "base_url = 'https://cloud-api.yandex.net/v1/disk/public/resources/download?'\n",
    "name_dict = {'assessments': 'https://disk.yandex.ru/d/iSVP1sZ7AdW7TQ',\n",
    "             'courses': 'https://disk.yandex.ru/d/jmJxR8yhwCXlaw',\n",
    "             'student_assessment': 'https://disk.yandex.ru/d/DYd4M5b_8RETsA',\n",
    "             'student_registration': 'https://disk.yandex.ru/d/lqHnH8NOZ458iw'}\n",
    "# Получаем загрузочную ссылку\n",
    "for key, value in name_dict.items():\n",
    "    final_url = base_url + urlencode(dict(public_key=value))\n",
    "    response = requests.get(final_url)\n",
    "    download_url = response.json()['href']\n",
    "    # Загружаем файл и сохраняем его\n",
    "    download_response = requests.get(download_url)\n",
    "    with open(f'{key}.csv', 'wb') as f:   # Здесь укажите нужный путь к файлу\n",
    "        f.write(download_response.content)\n",
    "\n",
    "assessments = pd.read_csv('assessments.csv')\n",
    "courses = pd.read_csv('courses.csv')\n",
    "student_assessment = pd.read_csv('student_assessment.csv')\n",
    "student_registration = pd.read_csv('student_registration.csv')"
   ]
  },
  {
   "cell_type": "markdown",
   "id": "323c9457",
   "metadata": {},
   "source": [
    "1) assessments.csv — этот файл содержит информацию об оценках в тесте. Обычно каждый предмет в семестре включает ряд тестов с оценками, за которыми следует заключительный экзаменационный тест (экзамен).\n",
    "\n",
    "code_module — идентификационный код предмета.\n",
    "\n",
    "code_presentation — семестр (Идентификационный код).\n",
    "\n",
    "id_assessment — тест (Идентификационный номер ассессмента).\n",
    "\n",
    "assessment_type — тип теста. Существуют три типа оценивания: оценка преподавателя (TMA), компьютерная оценка (СМА), экзамен по курсу (Exam).\n",
    "\n",
    "date — информация об окончательной дате сдачи теста. Рассчитывается как количество дней с момента начала семестра. Дата начала семестра имеет номер 0 (ноль).\n",
    "\n",
    "weight — вес теста в % в оценке за курс. Обычно экзамены рассматриваются отдельно и имеют вес 100%; сумма всех остальных оценок составляет 100%.\n",
    "\n",
    "2) courses.csv — файл содержит список предметов по семестрам.\n",
    "\n",
    "code_module — предмет (идентификационный код).\n",
    "\n",
    "code_presentation — семестр (идентификационный код).\n",
    "\n",
    "module_presentation_length — продолжительность семестра в днях.\n",
    "\n",
    "3) studentAssessment.csv — этот файл содержит результаты тестов студентов. Если учащийся не отправляет работу на оценку, результат не записывается в таблицу.\n",
    "\n",
    "id_assessment — тест (идентификационный номер).\n",
    "\n",
    "id_student — идентификационный номер студента.\n",
    "\n",
    "date_submitted — дата сдачи теста студентом, измеряемая как количество дней с начала семестра.\n",
    "\n",
    "is_banked — факт перезачета теста с прошлого семестра (иногда курсы перезачитывают студентам, вернувшимся из академического отпуска).\n",
    "\n",
    "score — оценка учащегося в этом тесте. Диапазон составляет от 0 до 100. Оценка ниже 40 неудачная/неуспешная сдача теста.\n",
    "\n",
    "4) studentRegistration.csv — этот файл содержит информацию о времени, когда студент зарегистрировался для прохождения курса в семестре.\n",
    "\n",
    "code_module — предмет (идентификационный код).\n",
    "\n",
    "code_presentation — семестр (идентификационный код)\n",
    "\n",
    "id_student — идентификационный номер студента.\n",
    "\n",
    "date_registration — дата регистрации студента. Это количество дней, измеренное от начала семестра (например, отрицательное значение -30 означает, что студент зарегистрировался на прохождение курса за 30 дней до его начала).\n",
    "\n",
    "date_unregistration — дата отмены регистрации студента с предмета. У студентов, окончивших курс, это поле остается пустым."
   ]
  },
  {
   "cell_type": "markdown",
   "id": "b95be8c4",
   "metadata": {},
   "source": [
    "### 1. Сколько студентов успешно сдали только один курс? (Успешная сдача — это зачёт по курсу на экзамене) (7 баллов)."
   ]
  },
  {
   "cell_type": "code",
   "execution_count": 11,
   "id": "b4e86ce9",
   "metadata": {},
   "outputs": [],
   "source": [
    "# Связь фреймов данных о студентах и их результатах по тестам\n",
    "assessment_df = student_assessment.merge(assessments, how='left', on='id_assessment')"
   ]
  },
  {
   "cell_type": "code",
   "execution_count": 12,
   "id": "deda0add",
   "metadata": {},
   "outputs": [
    {
     "data": {
      "text/plain": [
       "3802"
      ]
     },
     "execution_count": 12,
     "metadata": {},
     "output_type": "execute_result"
    }
   ],
   "source": [
    "# Число студентов, которые успешно сдали только один курс\n",
    "assessment_df.query('score >= 40 and assessment_type == \"Exam\"') \\\n",
    "             .groupby('id_student', as_index=False) \\\n",
    "             .agg({'id_assessment': 'count'}) \\\n",
    "             .rename(columns={'id_assessment': 'num_of_passed_exams'}) \\\n",
    "             .query('num_of_passed_exams == 1').shape[0]"
   ]
  },
  {
   "cell_type": "markdown",
   "id": "82eb0a9a",
   "metadata": {},
   "source": [
    "### 2. Выяви самый сложный и самый простой экзамен: найди курсы и экзамены в рамках курса, которые обладают самой низкой и самой высокой завершаемостью*. (5 баллов) \n",
    "завершаемость = кол-во успешных экзаменов / кол-во всех попыток сдать экзамен"
   ]
  },
  {
   "cell_type": "code",
   "execution_count": 13,
   "id": "d8d8101a",
   "metadata": {},
   "outputs": [],
   "source": [
    "# Студенты, которые сдавали экзамены с группировкой по предмету, семестру и номеру экзамена\n",
    "all_students = assessment_df.query('assessment_type == \"Exam\"') \\\n",
    "                            .groupby(['code_module', 'code_presentation', 'id_assessment'], as_index=False) \\\n",
    "                            .agg({\"id_student\": 'count'}) \\\n",
    "                            .rename(columns={'id_student': 'number_of_tried'})\n",
    "\n",
    "# Студенты, которые успешно сдали экзамены с группировкой по предмету, семестру и номеру экзамена\n",
    "passed_students = assessment_df.query('assessment_type == \"Exam\" and score >= 40') \\\n",
    "                               .groupby(['code_module', 'code_presentation', 'id_assessment'], as_index=False) \\\n",
    "                               .agg({\"id_student\": 'count'}) \\\n",
    "                               .rename(columns={'id_student': 'number_of_passed'})"
   ]
  },
  {
   "cell_type": "code",
   "execution_count": 14,
   "id": "f76ec1bf",
   "metadata": {},
   "outputs": [],
   "source": [
    "pd.set_option('display.precision', 3)  # Устанавливаем число знаков после запятой для отображения в датафрейме"
   ]
  },
  {
   "cell_type": "code",
   "execution_count": 15,
   "id": "3d0f27e5",
   "metadata": {},
   "outputs": [
    {
     "data": {
      "text/html": [
       "<div>\n",
       "<style scoped>\n",
       "    .dataframe tbody tr th:only-of-type {\n",
       "        vertical-align: middle;\n",
       "    }\n",
       "\n",
       "    .dataframe tbody tr th {\n",
       "        vertical-align: top;\n",
       "    }\n",
       "\n",
       "    .dataframe thead th {\n",
       "        text-align: right;\n",
       "    }\n",
       "</style>\n",
       "<table border=\"1\" class=\"dataframe\">\n",
       "  <thead>\n",
       "    <tr style=\"text-align: right;\">\n",
       "      <th></th>\n",
       "      <th>code_module</th>\n",
       "      <th>code_presentation</th>\n",
       "      <th>id_assessment</th>\n",
       "      <th>number_of_passed</th>\n",
       "      <th>number_of_tried</th>\n",
       "      <th>passing_rate</th>\n",
       "    </tr>\n",
       "  </thead>\n",
       "  <tbody>\n",
       "    <tr>\n",
       "      <th>0</th>\n",
       "      <td>CCC</td>\n",
       "      <td>2014B</td>\n",
       "      <td>24290</td>\n",
       "      <td>664</td>\n",
       "      <td>747</td>\n",
       "      <td>0.889</td>\n",
       "    </tr>\n",
       "    <tr>\n",
       "      <th>1</th>\n",
       "      <td>CCC</td>\n",
       "      <td>2014J</td>\n",
       "      <td>24299</td>\n",
       "      <td>1019</td>\n",
       "      <td>1168</td>\n",
       "      <td>0.872</td>\n",
       "    </tr>\n",
       "    <tr>\n",
       "      <th>2</th>\n",
       "      <td>DDD</td>\n",
       "      <td>2013B</td>\n",
       "      <td>25340</td>\n",
       "      <td>504</td>\n",
       "      <td>602</td>\n",
       "      <td>0.837</td>\n",
       "    </tr>\n",
       "    <tr>\n",
       "      <th>3</th>\n",
       "      <td>DDD</td>\n",
       "      <td>2013J</td>\n",
       "      <td>25354</td>\n",
       "      <td>878</td>\n",
       "      <td>968</td>\n",
       "      <td>0.907</td>\n",
       "    </tr>\n",
       "    <tr>\n",
       "      <th>4</th>\n",
       "      <td>DDD</td>\n",
       "      <td>2014B</td>\n",
       "      <td>25361</td>\n",
       "      <td>485</td>\n",
       "      <td>524</td>\n",
       "      <td>0.926</td>\n",
       "    </tr>\n",
       "    <tr>\n",
       "      <th>5</th>\n",
       "      <td>DDD</td>\n",
       "      <td>2014J</td>\n",
       "      <td>25368</td>\n",
       "      <td>842</td>\n",
       "      <td>950</td>\n",
       "      <td>0.886</td>\n",
       "    </tr>\n",
       "  </tbody>\n",
       "</table>\n",
       "</div>"
      ],
      "text/plain": [
       "  code_module code_presentation  id_assessment  number_of_passed  \\\n",
       "0         CCC             2014B          24290               664   \n",
       "1         CCC             2014J          24299              1019   \n",
       "2         DDD             2013B          25340               504   \n",
       "3         DDD             2013J          25354               878   \n",
       "4         DDD             2014B          25361               485   \n",
       "5         DDD             2014J          25368               842   \n",
       "\n",
       "   number_of_tried  passing_rate  \n",
       "0              747         0.889  \n",
       "1             1168         0.872  \n",
       "2              602         0.837  \n",
       "3              968         0.907  \n",
       "4              524         0.926  \n",
       "5              950         0.886  "
      ]
     },
     "execution_count": 15,
     "metadata": {},
     "output_type": "execute_result"
    }
   ],
   "source": [
    "# объединяем два фрейма студентов по предмету и создаем колонку завершаемости предмета\n",
    "exams_df = passed_students.merge(all_students, how='inner')\n",
    "\n",
    "exams_df['passing_rate'] = exams_df.number_of_passed / exams_df.number_of_tried\n",
    "\n",
    "exams_df"
   ]
  },
  {
   "cell_type": "code",
   "execution_count": 16,
   "id": "0901a4bd",
   "metadata": {},
   "outputs": [],
   "source": [
    "# определяем минимальное и максимальное значения завершаемости курсов\n",
    "min_ending = exams_df.passing_rate.min()\n",
    "\n",
    "max_ending = exams_df.passing_rate.max()"
   ]
  },
  {
   "cell_type": "code",
   "execution_count": 17,
   "id": "d2cdbd30",
   "metadata": {},
   "outputs": [
    {
     "data": {
      "text/html": [
       "<div>\n",
       "<style scoped>\n",
       "    .dataframe tbody tr th:only-of-type {\n",
       "        vertical-align: middle;\n",
       "    }\n",
       "\n",
       "    .dataframe tbody tr th {\n",
       "        vertical-align: top;\n",
       "    }\n",
       "\n",
       "    .dataframe thead th {\n",
       "        text-align: right;\n",
       "    }\n",
       "</style>\n",
       "<table border=\"1\" class=\"dataframe\">\n",
       "  <thead>\n",
       "    <tr style=\"text-align: right;\">\n",
       "      <th></th>\n",
       "      <th>code_module</th>\n",
       "      <th>code_presentation</th>\n",
       "      <th>id_assessment</th>\n",
       "    </tr>\n",
       "  </thead>\n",
       "  <tbody>\n",
       "    <tr>\n",
       "      <th>2</th>\n",
       "      <td>DDD</td>\n",
       "      <td>2013B</td>\n",
       "      <td>25340</td>\n",
       "    </tr>\n",
       "  </tbody>\n",
       "</table>\n",
       "</div>"
      ],
      "text/plain": [
       "  code_module code_presentation  id_assessment\n",
       "2         DDD             2013B          25340"
      ]
     },
     "execution_count": 17,
     "metadata": {},
     "output_type": "execute_result"
    }
   ],
   "source": [
    "# Экзамен, код экзамена и номер теста с самой низкой завершаемостью\n",
    "exams_df.query('passing_rate == @min_ending')[['code_module', 'code_presentation', 'id_assessment']]"
   ]
  },
  {
   "cell_type": "code",
   "execution_count": 18,
   "id": "50578d29",
   "metadata": {},
   "outputs": [
    {
     "data": {
      "text/html": [
       "<div>\n",
       "<style scoped>\n",
       "    .dataframe tbody tr th:only-of-type {\n",
       "        vertical-align: middle;\n",
       "    }\n",
       "\n",
       "    .dataframe tbody tr th {\n",
       "        vertical-align: top;\n",
       "    }\n",
       "\n",
       "    .dataframe thead th {\n",
       "        text-align: right;\n",
       "    }\n",
       "</style>\n",
       "<table border=\"1\" class=\"dataframe\">\n",
       "  <thead>\n",
       "    <tr style=\"text-align: right;\">\n",
       "      <th></th>\n",
       "      <th>code_module</th>\n",
       "      <th>code_presentation</th>\n",
       "      <th>id_assessment</th>\n",
       "    </tr>\n",
       "  </thead>\n",
       "  <tbody>\n",
       "    <tr>\n",
       "      <th>4</th>\n",
       "      <td>DDD</td>\n",
       "      <td>2014B</td>\n",
       "      <td>25361</td>\n",
       "    </tr>\n",
       "  </tbody>\n",
       "</table>\n",
       "</div>"
      ],
      "text/plain": [
       "  code_module code_presentation  id_assessment\n",
       "4         DDD             2014B          25361"
      ]
     },
     "execution_count": 18,
     "metadata": {},
     "output_type": "execute_result"
    }
   ],
   "source": [
    "# Экзамен, код экзамена и номер теста  с самой высокой завершаемостью\n",
    "exams_df.query('passing_rate == @max_ending')[['code_module', 'code_presentation', 'id_assessment']]"
   ]
  },
  {
   "cell_type": "markdown",
   "id": "72658adf",
   "metadata": {},
   "source": [
    "### 3. По каждому предмету определи средний срок сдачи экзаменов (под сдачей понимаем последнее успешное прохождение экзамена студентом). (5 баллов) "
   ]
  },
  {
   "cell_type": "code",
   "execution_count": 19,
   "id": "9ac4ca64",
   "metadata": {
    "scrolled": false
   },
   "outputs": [
    {
     "data": {
      "text/html": [
       "<div>\n",
       "<style scoped>\n",
       "    .dataframe tbody tr th:only-of-type {\n",
       "        vertical-align: middle;\n",
       "    }\n",
       "\n",
       "    .dataframe tbody tr th {\n",
       "        vertical-align: top;\n",
       "    }\n",
       "\n",
       "    .dataframe thead th {\n",
       "        text-align: right;\n",
       "    }\n",
       "</style>\n",
       "<table border=\"1\" class=\"dataframe\">\n",
       "  <thead>\n",
       "    <tr style=\"text-align: right;\">\n",
       "      <th></th>\n",
       "      <th>code_module</th>\n",
       "      <th>code_presentation</th>\n",
       "      <th>average_pass_date</th>\n",
       "    </tr>\n",
       "  </thead>\n",
       "  <tbody>\n",
       "    <tr>\n",
       "      <th>0</th>\n",
       "      <td>CCC</td>\n",
       "      <td>2014B</td>\n",
       "      <td>231.581</td>\n",
       "    </tr>\n",
       "    <tr>\n",
       "      <th>1</th>\n",
       "      <td>CCC</td>\n",
       "      <td>2014J</td>\n",
       "      <td>244.404</td>\n",
       "    </tr>\n",
       "    <tr>\n",
       "      <th>2</th>\n",
       "      <td>DDD</td>\n",
       "      <td>2013B</td>\n",
       "      <td>230.165</td>\n",
       "    </tr>\n",
       "    <tr>\n",
       "      <th>3</th>\n",
       "      <td>DDD</td>\n",
       "      <td>2013J</td>\n",
       "      <td>239.509</td>\n",
       "    </tr>\n",
       "    <tr>\n",
       "      <th>4</th>\n",
       "      <td>DDD</td>\n",
       "      <td>2014B</td>\n",
       "      <td>234.936</td>\n",
       "    </tr>\n",
       "    <tr>\n",
       "      <th>5</th>\n",
       "      <td>DDD</td>\n",
       "      <td>2014J</td>\n",
       "      <td>242.804</td>\n",
       "    </tr>\n",
       "  </tbody>\n",
       "</table>\n",
       "</div>"
      ],
      "text/plain": [
       "  code_module code_presentation  average_pass_date\n",
       "0         CCC             2014B            231.581\n",
       "1         CCC             2014J            244.404\n",
       "2         DDD             2013B            230.165\n",
       "3         DDD             2013J            239.509\n",
       "4         DDD             2014B            234.936\n",
       "5         DDD             2014J            242.804"
      ]
     },
     "execution_count": 19,
     "metadata": {},
     "output_type": "execute_result"
    }
   ],
   "source": [
    "# Определяем средний срок сдачи экзамена\n",
    "mean_pass_date_df = assessment_df.query('assessment_type == \"Exam\" and score >= 40') \\\n",
    "                                 .groupby(['code_module', 'code_presentation'], as_index=False) \\\n",
    "                                 .agg({\"date_submitted\": 'mean'}) \\\n",
    "                                 .rename(columns={'date_submitted': 'average_pass_date'})\n",
    "\n",
    "mean_pass_date_df"
   ]
  },
  {
   "cell_type": "markdown",
   "id": "11f86f89",
   "metadata": {},
   "source": [
    "### 4. Выяви самые популярные курсы (ТОП-3) по количеству регистраций на них. А также курсы с самым большим оттоком (ТОП-3). (8 баллов)"
   ]
  },
  {
   "cell_type": "code",
   "execution_count": 20,
   "id": "3263c8c1",
   "metadata": {},
   "outputs": [
    {
     "data": {
      "text/html": [
       "<div>\n",
       "<style scoped>\n",
       "    .dataframe tbody tr th:only-of-type {\n",
       "        vertical-align: middle;\n",
       "    }\n",
       "\n",
       "    .dataframe tbody tr th {\n",
       "        vertical-align: top;\n",
       "    }\n",
       "\n",
       "    .dataframe thead th {\n",
       "        text-align: right;\n",
       "    }\n",
       "</style>\n",
       "<table border=\"1\" class=\"dataframe\">\n",
       "  <thead>\n",
       "    <tr style=\"text-align: right;\">\n",
       "      <th></th>\n",
       "      <th>code_module</th>\n",
       "      <th>number_of_reg</th>\n",
       "    </tr>\n",
       "  </thead>\n",
       "  <tbody>\n",
       "    <tr>\n",
       "      <th>1</th>\n",
       "      <td>BBB</td>\n",
       "      <td>7692</td>\n",
       "    </tr>\n",
       "    <tr>\n",
       "      <th>5</th>\n",
       "      <td>FFF</td>\n",
       "      <td>7397</td>\n",
       "    </tr>\n",
       "    <tr>\n",
       "      <th>3</th>\n",
       "      <td>DDD</td>\n",
       "      <td>5848</td>\n",
       "    </tr>\n",
       "  </tbody>\n",
       "</table>\n",
       "</div>"
      ],
      "text/plain": [
       "  code_module  number_of_reg\n",
       "1         BBB           7692\n",
       "5         FFF           7397\n",
       "3         DDD           5848"
      ]
     },
     "execution_count": 20,
     "metadata": {},
     "output_type": "execute_result"
    }
   ],
   "source": [
    "# ТОП-3 курса по числу регистраций, учитываем, что студент мог зарегестрироваться на курс несколько раз (nunique)\n",
    "reg_df = student_registration.groupby('code_module', as_index=False) \\\n",
    "                             .agg({'id_student': 'nunique'}) \\\n",
    "                             .rename(columns={'id_student': 'number_of_reg'}) \\\n",
    "                             .sort_values('number_of_reg', ascending=False)\n",
    "reg_df.head(3)"
   ]
  },
  {
   "cell_type": "code",
   "execution_count": 21,
   "id": "e87e5357",
   "metadata": {},
   "outputs": [
    {
     "data": {
      "text/html": [
       "<div>\n",
       "<style scoped>\n",
       "    .dataframe tbody tr th:only-of-type {\n",
       "        vertical-align: middle;\n",
       "    }\n",
       "\n",
       "    .dataframe tbody tr th {\n",
       "        vertical-align: top;\n",
       "    }\n",
       "\n",
       "    .dataframe thead th {\n",
       "        text-align: right;\n",
       "    }\n",
       "</style>\n",
       "<table border=\"1\" class=\"dataframe\">\n",
       "  <thead>\n",
       "    <tr style=\"text-align: right;\">\n",
       "      <th></th>\n",
       "      <th>code_module</th>\n",
       "      <th>number_of_unreg</th>\n",
       "    </tr>\n",
       "  </thead>\n",
       "  <tbody>\n",
       "    <tr>\n",
       "      <th>1</th>\n",
       "      <td>BBB</td>\n",
       "      <td>2314</td>\n",
       "    </tr>\n",
       "    <tr>\n",
       "      <th>5</th>\n",
       "      <td>FFF</td>\n",
       "      <td>2249</td>\n",
       "    </tr>\n",
       "    <tr>\n",
       "      <th>3</th>\n",
       "      <td>DDD</td>\n",
       "      <td>2065</td>\n",
       "    </tr>\n",
       "  </tbody>\n",
       "</table>\n",
       "</div>"
      ],
      "text/plain": [
       "  code_module  number_of_unreg\n",
       "1         BBB             2314\n",
       "5         FFF             2249\n",
       "3         DDD             2065"
      ]
     },
     "execution_count": 21,
     "metadata": {},
     "output_type": "execute_result"
    }
   ],
   "source": [
    "# ТОП-3 курса по оттоку студентов, берем в расчет только студентов,\n",
    "# у которых имеется факт отмены регистрации на курс (query по date_unregistration)\n",
    "unreg_df = student_registration.query('date_unregistration.isnull() == False', engine='python') \\\n",
    "                               .groupby('code_module', as_index=False) \\\n",
    "                               .agg({'id_student': 'nunique'}) \\\n",
    "                               .rename(columns={'id_student': 'number_of_unreg'}) \\\n",
    "                               .sort_values('number_of_unreg', ascending=False)\n",
    "\n",
    "unreg_df.head(3)"
   ]
  },
  {
   "cell_type": "markdown",
   "id": "f086107a",
   "metadata": {},
   "source": [
    "В ТОП-3 по числу регистраций и оттоку попали одинаковые курсы, проверим коэффициент оттока студентов по всем курсам:\n"
   ]
  },
  {
   "cell_type": "code",
   "execution_count": 22,
   "id": "ba19a7dd",
   "metadata": {},
   "outputs": [
    {
     "data": {
      "text/html": [
       "<div>\n",
       "<style scoped>\n",
       "    .dataframe tbody tr th:only-of-type {\n",
       "        vertical-align: middle;\n",
       "    }\n",
       "\n",
       "    .dataframe tbody tr th {\n",
       "        vertical-align: top;\n",
       "    }\n",
       "\n",
       "    .dataframe thead th {\n",
       "        text-align: right;\n",
       "    }\n",
       "</style>\n",
       "<table border=\"1\" class=\"dataframe\">\n",
       "  <thead>\n",
       "    <tr style=\"text-align: right;\">\n",
       "      <th></th>\n",
       "      <th>code_module</th>\n",
       "      <th>number_of_unreg</th>\n",
       "      <th>number_of_reg</th>\n",
       "      <th>churn_rate</th>\n",
       "    </tr>\n",
       "  </thead>\n",
       "  <tbody>\n",
       "    <tr>\n",
       "      <th>3</th>\n",
       "      <td>CCC</td>\n",
       "      <td>1858</td>\n",
       "      <td>4251</td>\n",
       "      <td>0.437</td>\n",
       "    </tr>\n",
       "    <tr>\n",
       "      <th>2</th>\n",
       "      <td>DDD</td>\n",
       "      <td>2065</td>\n",
       "      <td>5848</td>\n",
       "      <td>0.353</td>\n",
       "    </tr>\n",
       "    <tr>\n",
       "      <th>1</th>\n",
       "      <td>FFF</td>\n",
       "      <td>2249</td>\n",
       "      <td>7397</td>\n",
       "      <td>0.304</td>\n",
       "    </tr>\n",
       "    <tr>\n",
       "      <th>0</th>\n",
       "      <td>BBB</td>\n",
       "      <td>2314</td>\n",
       "      <td>7692</td>\n",
       "      <td>0.301</td>\n",
       "    </tr>\n",
       "    <tr>\n",
       "      <th>4</th>\n",
       "      <td>EEE</td>\n",
       "      <td>693</td>\n",
       "      <td>2859</td>\n",
       "      <td>0.242</td>\n",
       "    </tr>\n",
       "    <tr>\n",
       "      <th>6</th>\n",
       "      <td>AAA</td>\n",
       "      <td>116</td>\n",
       "      <td>712</td>\n",
       "      <td>0.163</td>\n",
       "    </tr>\n",
       "    <tr>\n",
       "      <th>5</th>\n",
       "      <td>GGG</td>\n",
       "      <td>287</td>\n",
       "      <td>2525</td>\n",
       "      <td>0.114</td>\n",
       "    </tr>\n",
       "  </tbody>\n",
       "</table>\n",
       "</div>"
      ],
      "text/plain": [
       "  code_module  number_of_unreg  number_of_reg  churn_rate\n",
       "3         CCC             1858           4251       0.437\n",
       "2         DDD             2065           5848       0.353\n",
       "1         FFF             2249           7397       0.304\n",
       "0         BBB             2314           7692       0.301\n",
       "4         EEE              693           2859       0.242\n",
       "6         AAA              116            712       0.163\n",
       "5         GGG              287           2525       0.114"
      ]
     },
     "execution_count": 22,
     "metadata": {},
     "output_type": "execute_result"
    }
   ],
   "source": [
    "churn_df = unreg_df.merge(reg_df, how='inner')\n",
    "\n",
    "churn_df['churn_rate'] = churn_df.number_of_unreg / churn_df.number_of_reg\n",
    "\n",
    "churn_df.sort_values('churn_rate', ascending=False)"
   ]
  },
  {
   "cell_type": "markdown",
   "id": "569d6b6f",
   "metadata": {},
   "source": [
    "Таким образом, курсы, попавшие в ТОП-3 по числу регистраций и отмен, не возглавляют Таблицу по коэффиценту оттока"
   ]
  },
  {
   "cell_type": "markdown",
   "id": "001fb951",
   "metadata": {},
   "source": [
    "### Напиши функцию на python, позволяющую строить когортный (семестровый) анализ. В период с начала 2013 по конец 2014 выяви семестр с самой низкой завершаемостью курсов и самыми долгими средними сроками сдачи курсов. (10 баллов) "
   ]
  },
  {
   "cell_type": "code",
   "execution_count": 23,
   "id": "19174855",
   "metadata": {},
   "outputs": [],
   "source": [
    "def Cohort():\n",
    "    '''Makes dataframe for Cohort analysis.\n",
    "    \n",
    "       Calculate passing_rate and average_pass_date\n",
    "       for each code_presentation,\n",
    "       using code_presentation as index'''\n",
    "    # импортируем датафреймы\n",
    "    assessments = pd.read_csv('assessments.csv')\n",
    "    # создаем датафреймы для анализа\n",
    "    assessment_df = student_assessment.merge(assessments, how='left', on='id_assessment')\n",
    "    # число студентов, сдававших экзамены\n",
    "    all_students = assessment_df.query('assessment_type == \"Exam\"') \\\n",
    "                                .groupby('code_presentation', as_index=False) \\\n",
    "                                .agg({\"id_student\": 'count'}) \\\n",
    "                                .rename(columns={'id_student': 'number_of_tried'})\n",
    "    # студенты, успешно сдавшие экзамены\n",
    "    passed_students = assessment_df.query('assessment_type == \"Exam\" and score >= 40') \\\n",
    "                                   .groupby('code_presentation', as_index=False) \\\n",
    "                                   .agg({\"id_student\": 'count'}) \\\n",
    "                                   .rename(columns={'id_student': 'number_of_passed'})\n",
    "    # датафрейм для расчета завершаемости\n",
    "    exams_df = passed_students.merge(all_students, how='inner')\n",
    "    exams_df['passing_rate'] = exams_df.number_of_passed / exams_df.number_of_tried\n",
    "    # датафрейм среднего времени сдачи экзаменов за семестр\n",
    "    average_pass_date = assessment_df.query('assessment_type == \"Exam\" and score >= 40') \\\n",
    "                                     .groupby('code_presentation', as_index=False) \\\n",
    "                                     .agg({\"date_submitted\": 'mean'}) \\\n",
    "                                     .rename(columns={'date_submitted': 'average_pass_date'})\n",
    "    # Объединяем датафрейм с завершаемостью курсов на семестре и средним временем завершения экзамена\n",
    "    df = exams_df.merge(average_pass_date, how='inner')\n",
    "    df = df.set_index('code_presentation')\n",
    "    return df"
   ]
  },
  {
   "cell_type": "code",
   "execution_count": 36,
   "id": "c5170ce1",
   "metadata": {},
   "outputs": [],
   "source": [
    "# Создаем датафрейм с помощью функции\n",
    "df = Cohort()"
   ]
  },
  {
   "cell_type": "code",
   "execution_count": 26,
   "id": "5ffd1bee",
   "metadata": {},
   "outputs": [
    {
     "data": {
      "text/plain": [
       "'2013B'"
      ]
     },
     "execution_count": 26,
     "metadata": {},
     "output_type": "execute_result"
    }
   ],
   "source": [
    "# семестр с самой низкой завершаемостью курсов\n",
    "df['passing_rate'].idxmin()"
   ]
  },
  {
   "cell_type": "code",
   "execution_count": 27,
   "id": "b36a512b",
   "metadata": {},
   "outputs": [
    {
     "data": {
      "text/plain": [
       "'2014J'"
      ]
     },
     "execution_count": 27,
     "metadata": {},
     "output_type": "execute_result"
    }
   ],
   "source": [
    "# семестр c самыми долгими средними сроками сдачи курсов\n",
    "df['average_pass_date'].idxmax()"
   ]
  },
  {
   "cell_type": "markdown",
   "id": "8e1f658e",
   "metadata": {},
   "source": [
    "## 6. Часто для качественного анализа аудитории используют подходы, основанные на сегментации. Используя python, построй адаптированные RFM-кластеры студентов, чтобы качественно оценить свою аудиторию. В адаптированной кластеризации можешь выбрать следующие метрики: R - среднее время сдачи одного экзамена, F - завершаемость курсов, M - среднее количество баллов, получаемое за экзамен. Подробно опиши, как ты создавал кластеры. Для каждого RFM-сегмента построй границы метрик recency, frequency и monetary для интерпретации этих кластеров. Пример такого описания: RFM-сегмент 132 (recency=1, frequency=3, monetary=2) имеет границы метрик recency от 130 до 500 дней, frequency от 0.1 до 0.5, monetary от 55 до 72 баллов. Описание подхода можно найти тут. (35 баллов)"
   ]
  },
  {
   "cell_type": "code",
   "execution_count": 28,
   "id": "33dc1b0e",
   "metadata": {},
   "outputs": [],
   "source": [
    "# создадим датафрейм для кластеризации:\n",
    "# датафрейм со средним количеством баллов, средним временем сдачи экзамена и числом попыток сдать экзамен\n",
    "# с группировкой по студентам\n",
    "passing_students = assessment_df.query('assessment_type == \"Exam\"') \\\n",
    "                                .groupby('id_student', as_index=False) \\\n",
    "                                .agg({\"score\": \"mean\", \"date_submitted\": 'mean', \"code_module\": 'count'}) \\\n",
    "                                .rename(columns={'code_module': 'number_of_tried', \"score\": 'average_score',\n",
    "                                                 'date_submitted': 'average_pass_date'}) \\\n",
    "                                .sort_values('number_of_tried', ascending=False)\n",
    "# датафрейм с числом сданных экзаменов в группировке по студентам\n",
    "passed_students = assessment_df.query('assessment_type == \"Exam\" and score >= 40') \\\n",
    "                               .groupby('id_student', as_index=False) \\\n",
    "                               .agg({\"code_module\": 'count'}) \\\n",
    "                               .rename(columns={'code_module': 'number_of_passed'}) \\\n",
    "                               .sort_values('number_of_passed', ascending=False)\n",
    "# общий датафрейм издвух предыдущих\n",
    "students = passing_students.merge(passed_students, how='left', on='id_student')\n",
    "# заполняем пустые значения для студентов, не сдавших экзамен\n",
    "students.fillna(0, inplace=True)\n",
    "# Колонка завершаемости курсов\n",
    "students['passing_rate'] = students.number_of_passed / students.number_of_tried"
   ]
  },
  {
   "cell_type": "code",
   "execution_count": 29,
   "id": "3eefe4f3",
   "metadata": {},
   "outputs": [],
   "source": [
    "# Принцип кластерного анализа заключается в определении подмножеств некоторого объема данных, \n",
    "# разделенных определенными показателями с рангами, в нашем случае рангами будут выступать:\n",
    "# R-среднее время сдачи одного экзамена, F - завершаемость курсов и M - среднее количество\n",
    "# баллов, получаемое за экзамен, ранг 1 будет являться наилучшим, 3-наихудшим.\n",
    "# Таким образом, можно получить 27 групп различных конфигураций, что\n",
    "# способствует более глубокому анализу\n",
    "# Подготавливаем данные для кластеризации\n",
    "RFM = students.drop(columns=['number_of_passed', 'number_of_tried'])\n",
    "\n",
    "RFM = RFM.set_index('id_student')\n",
    "\n",
    "RFM = RFM.reindex(columns=['average_pass_date', 'passing_rate', 'average_score'])"
   ]
  },
  {
   "cell_type": "code",
   "execution_count": 30,
   "id": "4d850632",
   "metadata": {
    "scrolled": true
   },
   "outputs": [
    {
     "data": {
      "text/plain": [
       "{'average_pass_date': {0.33: 236.0, 0.66: 243.0},\n",
       " 'passing_rate': {0.33: 1.0, 0.66: 1.0},\n",
       " 'average_score': {0.33: 56.0, 0.66: 76.0}}"
      ]
     },
     "execution_count": 30,
     "metadata": {},
     "output_type": "execute_result"
    }
   ],
   "source": [
    "# Сегментирование проводим по 3 группам, для этого определим границы групп:\n",
    "quantiles = RFM[['average_pass_date', 'passing_rate', 'average_score']].quantile([.33, .66]).to_dict()\n",
    "\n",
    "quantiles"
   ]
  },
  {
   "cell_type": "code",
   "execution_count": 31,
   "id": "1680f0af",
   "metadata": {},
   "outputs": [],
   "source": [
    "# определим принцип ранжирования показателей\n",
    "# так как среднее количество баллов и завершаемость тем лучше, чем выше значение показателя,\n",
    "# ранг 1 будет соответствовать максимальному значению,\n",
    "# а среднее время сдачи экзамена наоборот, т.е. чем выше показатель, тем ниже ранг\n",
    "# Сегменты для среднего времени сдачи экзамена\n",
    "def r_score(x):\n",
    "    if x <= quantiles['average_pass_date'][.33]:\n",
    "        return 1\n",
    "    elif x <= quantiles['average_pass_date'][.66]:\n",
    "        return 2\n",
    "    else:\n",
    "        return 3\n",
    "\n",
    "\n",
    "# Сегменты для завершаемости курсов(принимаем доп условие по равенству квантилей, если они равны,\n",
    "# то задаем границы как 0.33 и 0.66)\n",
    "def f_score(x):\n",
    "    if (\n",
    "        quantiles['passing_rate'][0.33] != quantiles['passing_rate'][0.66]\n",
    "        and quantiles['passing_rate'][0.66] != RFM.passing_rate.max()\n",
    "    ):\n",
    "        if x <= quantiles['passing_rate'][0.33]:\n",
    "            return 3\n",
    "        elif x <= quantiles['passing_rate'][0.66]:\n",
    "            return 2\n",
    "        else:\n",
    "            return 1\n",
    "    else:\n",
    "        if x == 0:\n",
    "            return 3\n",
    "        elif x == 0.5:\n",
    "            return 2\n",
    "        else:\n",
    "            return 1\n",
    "\n",
    "\n",
    "# Сегменты для среднего количества баллов:\n",
    "def m_score(x):\n",
    "    if x <= quantiles['average_score'][0.33]:\n",
    "        return 3\n",
    "    elif x <= quantiles['average_score'][.66]:\n",
    "        return 2\n",
    "    else:\n",
    "        return 1\n",
    "\n",
    "\n",
    "# Определяем значения столбцов RFM-кластеризации:\n",
    "RFM['R'] = RFM['average_pass_date'].apply(lambda x: r_score(x))\n",
    "RFM['F'] = RFM['passing_rate'].apply(lambda x: f_score(x))\n",
    "RFM['M'] = RFM['average_score'].apply(lambda x: m_score(x))"
   ]
  },
  {
   "cell_type": "code",
   "execution_count": 32,
   "id": "b751b405",
   "metadata": {},
   "outputs": [],
   "source": [
    "# Определим, в каких группах находятся студенты:\n",
    "RFM[['R', 'F', 'M']] = RFM[['R', 'F', 'M']].astype(str)\n",
    "\n",
    "RFM['cluster'] = RFM['R'] + RFM['F'] + RFM['M']"
   ]
  },
  {
   "cell_type": "code",
   "execution_count": 33,
   "id": "ed534a09",
   "metadata": {},
   "outputs": [],
   "source": [
    "# сгруппируем студентов по кластерам для вывода:\n",
    "grouped_RFM = RFM.groupby('cluster', as_index=False) \\\n",
    "                 .agg({'average_pass_date': 'count'}) \\\n",
    "                 .rename(columns={'average_pass_date': 'number_of_students'}) \\\n",
    "                 .sort_values('number_of_students', ascending=False)"
   ]
  },
  {
   "cell_type": "code",
   "execution_count": 34,
   "id": "919d31f4",
   "metadata": {},
   "outputs": [],
   "source": [
    "# Напишем функцию для вывода значений границ сегментов:\n",
    "def Cluster_analysis(df):\n",
    "    \"\"\"Gets dataframe with 2 columns: cluster and number of elements in cluster\n",
    "       Print analysis of cluster with borders and number of elements\"\"\"\n",
    "    print(f'Число ненулевых кластеров: {df.shape[0]}\\nRFM-сегменты представлены в виде следующих групп:\\n')\n",
    "#     Проходтим по таблице через цикл с i для извлечения группы и числа студентов в ней\n",
    "    for i in range(0, df.shape[0] - 1):\n",
    "        cluster = df.iloc[i, 0]\n",
    "        number = df.iloc[i, 1]\n",
    "        if cluster[0] == '1':\n",
    "            average_pass_date = f\"от {RFM.average_pass_date.min()} до {quantiles['average_pass_date'][0.33]} дней\"\n",
    "        elif cluster[0] == '2': \n",
    "            average_pass_date = (f\"от {quantiles['average_pass_date'][0.33]} до \" \n",
    "                                 f\"{quantiles['average_pass_date'][0.66]} дней\")\n",
    "        else:\n",
    "            average_pass_date = (f\"от {quantiles['average_pass_date'][0.66]} до \"\n",
    "                                 f\"{RFM.average_pass_date.max()} дней\")\n",
    "        if cluster[1] == '3':\n",
    "            passing_rate = f\"от {RFM.passing_rate.min()} до 0.33\"\n",
    "        elif cluster[1] == '2': \n",
    "            passing_rate = \"от 0.33 до 0.66\"\n",
    "        else:\n",
    "            passing_rate = f\"от 0.66 до {RFM.passing_rate.max()}\"\n",
    "        if cluster[2] == '3':\n",
    "            average_score = f\"от {RFM.average_score.min()} до {quantiles['average_score'][0.33]} баллов\"\n",
    "        elif cluster[2] == '2': \n",
    "            average_score = f\"от {quantiles['average_score'][0.33]} до {quantiles['average_score'][0.66]} баллов\"\n",
    "        else:\n",
    "            average_score = f\"от {quantiles['average_score'][0.66]} до {RFM.average_score.max()} баллов\"\n",
    "        print(f'{cluster} (число студентов:{number}) имеет границы метрик average_pass_date {average_pass_date}, '\n",
    "              f'passing_rate {passing_rate}, average_score {average_score}')"
   ]
  },
  {
   "cell_type": "code",
   "execution_count": 35,
   "id": "ef328430",
   "metadata": {},
   "outputs": [
    {
     "name": "stdout",
     "output_type": "stream",
     "text": [
      "Число ненулевых кластеров: 16\n",
      "RFM-сегменты представлены в виде следующих групп:\n",
      "\n",
      "212 (число студентов:693) имеет границы метрик average_pass_date от 236.0 до 243.0 дней, passing_rate от 0.66 до 1.0, average_score от 56.0 до 76.0 баллов\n",
      "211 (число студентов:586) имеет границы метрик average_pass_date от 236.0 до 243.0 дней, passing_rate от 0.66 до 1.0, average_score от 76.0 до 100.0 баллов\n",
      "111 (число студентов:546) имеет границы метрик average_pass_date от 229.0 до 236.0 дней, passing_rate от 0.66 до 1.0, average_score от 76.0 до 100.0 баллов\n",
      "112 (число студентов:541) имеет границы метрик average_pass_date от 229.0 до 236.0 дней, passing_rate от 0.66 до 1.0, average_score от 56.0 до 76.0 баллов\n",
      "213 (число студентов:473) имеет границы метрик average_pass_date от 236.0 до 243.0 дней, passing_rate от 0.66 до 1.0, average_score от 0.0 до 56.0 баллов\n",
      "113 (число студентов:408) имеет границы метрик average_pass_date от 229.0 до 236.0 дней, passing_rate от 0.66 до 1.0, average_score от 0.0 до 56.0 баллов\n",
      "311 (число студентов:369) имеет границы метрик average_pass_date от 243.0 до 285.0 дней, passing_rate от 0.66 до 1.0, average_score от 76.0 до 100.0 баллов\n",
      "312 (число студентов:247) имеет границы метрик average_pass_date от 243.0 до 285.0 дней, passing_rate от 0.66 до 1.0, average_score от 56.0 до 76.0 баллов\n",
      "233 (число студентов:217) имеет границы метрик average_pass_date от 236.0 до 243.0 дней, passing_rate от 0.0 до 0.33, average_score от 0.0 до 56.0 баллов\n",
      "313 (число студентов:206) имеет границы метрик average_pass_date от 243.0 до 285.0 дней, passing_rate от 0.66 до 1.0, average_score от 0.0 до 56.0 баллов\n",
      "133 (число студентов:202) имеет границы метрик average_pass_date от 229.0 до 236.0 дней, passing_rate от 0.0 до 0.33, average_score от 0.0 до 56.0 баллов\n",
      "333 (число студентов:117) имеет границы метрик average_pass_date от 243.0 до 285.0 дней, passing_rate от 0.0 до 0.33, average_score от 0.0 до 56.0 баллов\n",
      "223 (число студентов:17) имеет границы метрик average_pass_date от 236.0 до 243.0 дней, passing_rate от 0.33 до 0.66, average_score от 0.0 до 56.0 баллов\n",
      "123 (число студентов:9) имеет границы метрик average_pass_date от 229.0 до 236.0 дней, passing_rate от 0.33 до 0.66, average_score от 0.0 до 56.0 баллов\n",
      "122 (число студентов:1) имеет границы метрик average_pass_date от 229.0 до 236.0 дней, passing_rate от 0.33 до 0.66, average_score от 56.0 до 76.0 баллов\n"
     ]
    }
   ],
   "source": [
    "Cluster_analysis(grouped_RFM)"
   ]
  },
  {
   "cell_type": "markdown",
   "id": "7d26a469",
   "metadata": {},
   "source": [
    "Таким образом, большая часть студентов успешно справляется с экзаменами на курсе (сегменты с лучшими показателями средних значений\n",
    "сроков сдачи экзаменов и баллов с завершаемостью самые наполненные), однако в данном случае использование метрики passing_rate выглядит\n",
    "не информативно, т.к. большинство студентов проходили 1 курс и сегментация по данной метрике задана искусственными границами между \n",
    "тремя величинами: 0, 0.5 и 1.0, поэтому я бы указывал вместо границ passing_rate действительное значение.\n",
    "При наличии большого количества величин в колонке passing_rate, задание границ будет обоснованным"
   ]
  }
 ],
 "metadata": {
  "kernelspec": {
   "display_name": "Python 3 (ipykernel)",
   "language": "python",
   "name": "python3"
  },
  "language_info": {
   "codemirror_mode": {
    "name": "ipython",
    "version": 3
   },
   "file_extension": ".py",
   "mimetype": "text/x-python",
   "name": "python",
   "nbconvert_exporter": "python",
   "pygments_lexer": "ipython3",
   "version": "3.9.13"
  },
  "varInspector": {
   "cols": {
    "lenName": 16,
    "lenType": 16,
    "lenVar": 40
   },
   "kernels_config": {
    "python": {
     "delete_cmd_postfix": "",
     "delete_cmd_prefix": "del ",
     "library": "var_list.py",
     "varRefreshCmd": "print(var_dic_list())"
    },
    "r": {
     "delete_cmd_postfix": ") ",
     "delete_cmd_prefix": "rm(",
     "library": "var_list.r",
     "varRefreshCmd": "cat(var_dic_list()) "
    }
   },
   "types_to_exclude": [
    "module",
    "function",
    "builtin_function_or_method",
    "instance",
    "_Feature"
   ],
   "window_display": false
  }
 },
 "nbformat": 4,
 "nbformat_minor": 5
}
